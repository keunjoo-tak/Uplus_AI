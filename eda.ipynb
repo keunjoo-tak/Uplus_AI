{
 "cells": [
  {
   "cell_type": "code",
   "execution_count": 34,
   "metadata": {},
   "outputs": [],
   "source": [
    "import numpy as np\n",
    "import pandas as pd\n",
    "from tqdm.notebook import tqdm\n",
    "from sklearn.model_selection import train_test_split\n",
    "from collections import defaultdict\n",
    "import os, random\n",
    "\n",
    "from scipy import sparse\n",
    "from sklearn.preprocessing import LabelEncoder\n",
    "import matplotlib.pyplot as plt\n",
    "\n",
    "pd.options.display.float_format = '{:.2f}'.format"
   ]
  },
  {
   "cell_type": "code",
   "execution_count": 2,
   "metadata": {},
   "outputs": [],
   "source": [
    "# 경로 설정\n",
    "data_path = './data'\n",
    "# saved_path = './saved'\n",
    "# output_path = './submission'"
   ]
  },
  {
   "cell_type": "code",
   "execution_count": 5,
   "metadata": {},
   "outputs": [
    {
     "name": "stderr",
     "output_type": "stream",
     "text": [
      "C:\\Users\\user\\AppData\\Local\\Temp\\ipykernel_9136\\1209108737.py:8: DtypeWarning: Columns (15) have mixed types. Specify dtype option on import or set low_memory=False.\n",
      "  meta_df = pd.read_csv(os.path.join(data_path, 'meta_data.csv'), encoding='utf-8')\n"
     ]
    }
   ],
   "source": [
    "# 데이터 불러오기 \n",
    "# 시청 시작 데이터 A\n",
    "history_df = pd.read_csv(os.path.join(data_path, 'history_data.csv'), encoding='utf-8')\n",
    "# 시청 종료 데이터 A\n",
    "watch_e_df = pd.read_csv(os.path.join(data_path, 'watch_e_data.csv'), encoding='utf-8')\n",
    "# 구매 이력 데이터 A\n",
    "buy_df = pd.read_csv(os.path.join(data_path, 'buy_data.csv'), encoding='utf-8')\n",
    "# 검색을 통한 시청 데이터 A\n",
    "search_df = pd.read_csv(os.path.join(data_path, 'search_data.csv'), encoding='utf-8')\n",
    "\n",
    "# 콘텐츠 일반 메타 정보 B\n",
    "meta_df = pd.read_csv(os.path.join(data_path, 'meta_data.csv'), encoding='utf-8')\n",
    "# 콘텐츠 확장 정보 B\n",
    "meta_data_plus_df = pd.read_csv(os.path.join(data_path, 'meta_data_plus.csv'), encoding='utf-8')\n",
    "\n",
    "# 프로필 정보 C\n",
    "profile_df = pd.read_csv(os.path.join(data_path, 'profile_data.csv'), encoding='utf-8')"
   ]
  },
  {
   "cell_type": "code",
   "execution_count": null,
   "metadata": {},
   "outputs": [],
   "source": [
    "# history_df.shape\n",
    "# history_df.columns\n",
    "# history_df.describe()\n",
    "# history_df.profile_id.value_counts()\n",
    "# history_df.ss_id.value_counts()\n",
    "\n",
    "print(history_df.groupby(['profile_id','ss_id'])[['album_id']].count().head(30))\n",
    "\n",
    "\n",
    "# watch_e_df.shape\n",
    "# watch_e_df.columns\n",
    "# watch_e_df.describe()\n",
    "# watch_e_df.profile_id.value_counts()\n",
    "\n",
    "# buy_df.shape\n",
    "# buy_df.columns\n",
    "# buy_df.describe()\n",
    "# buy_df.profile_id.value_counts()\n",
    "\n",
    "# search_df.shape\n",
    "# search_df.columns\n",
    "# search_df.describe()\n",
    "# search_df.profile_id.value_counts()"
   ]
  },
  {
   "cell_type": "code",
   "execution_count": null,
   "metadata": {},
   "outputs": [],
   "source": []
  }
 ],
 "metadata": {
  "kernelspec": {
   "display_name": "Python 3.9.6 ('.venv': venv)",
   "language": "python",
   "name": "python3"
  },
  "language_info": {
   "codemirror_mode": {
    "name": "ipython",
    "version": 3
   },
   "file_extension": ".py",
   "mimetype": "text/x-python",
   "name": "python",
   "nbconvert_exporter": "python",
   "pygments_lexer": "ipython3",
   "version": "3.9.6"
  },
  "orig_nbformat": 4,
  "vscode": {
   "interpreter": {
    "hash": "a37104c2d2c99643ace55ab7f5c18fe06c07b46bb1f51d7a71d7e1bdc71355a0"
   }
  }
 },
 "nbformat": 4,
 "nbformat_minor": 2
}
